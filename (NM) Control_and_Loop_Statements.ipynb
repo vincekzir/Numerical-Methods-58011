{
  "nbformat": 4,
  "nbformat_minor": 0,
  "metadata": {
    "colab": {
      "name": "(NM) Control and Loop Statements.ipynb",
      "provenance": [],
      "collapsed_sections": [],
      "authorship_tag": "ABX9TyP9uwon7sws/RhCAG/dKza1",
      "include_colab_link": true
    },
    "kernelspec": {
      "name": "python3",
      "display_name": "Python 3"
    },
    "language_info": {
      "name": "python"
    }
  },
  "cells": [
    {
      "cell_type": "markdown",
      "metadata": {
        "id": "view-in-github",
        "colab_type": "text"
      },
      "source": [
        "<a href=\"https://colab.research.google.com/github/vincev16/Numerical-Methods-58011/blob/main/(NM)%20Control_and_Loop_Statements.ipynb\" target=\"_parent\"><img src=\"https://colab.research.google.com/assets/colab-badge.svg\" alt=\"Open In Colab\"/></a>"
      ]
    },
    {
      "cell_type": "markdown",
      "source": [
        "## If Statement"
      ],
      "metadata": {
        "id": "ydt5g8mZbqDo"
      }
    },
    {
      "cell_type": "code",
      "execution_count": null,
      "metadata": {
        "colab": {
          "base_uri": "https://localhost:8080/"
        },
        "id": "z9fKlTLCbiQg",
        "outputId": "049d130a-abe4-4a8c-ed96-624be19beaec"
      },
      "outputs": [
        {
          "output_type": "stream",
          "name": "stdout",
          "text": [
            "b is greater than a\n"
          ]
        }
      ],
      "source": [
        "a = 12\n",
        "b = 100\n",
        "\n",
        "if b > a:\n",
        "  print(\"b is greater than a\")"
      ]
    },
    {
      "cell_type": "markdown",
      "source": [
        "##Else if (Elif) Statement"
      ],
      "metadata": {
        "id": "mtIm7YEKcII3"
      }
    },
    {
      "cell_type": "code",
      "source": [
        "a = 12\n",
        "b = 100\n",
        "\n",
        "if b > a:\n",
        "  print(\"b is greater than a\")\n",
        "elif a > b:\n",
        "  print(\"a is greater than b\")"
      ],
      "metadata": {
        "colab": {
          "base_uri": "https://localhost:8080/"
        },
        "id": "92dup_-tcVv6",
        "outputId": "9600a19f-90cf-4a54-d83c-a7684c8efc27"
      },
      "execution_count": null,
      "outputs": [
        {
          "output_type": "stream",
          "name": "stdout",
          "text": [
            "b is greater than a\n"
          ]
        }
      ]
    },
    {
      "cell_type": "markdown",
      "source": [
        "##Else Statement"
      ],
      "metadata": {
        "id": "KCG2dwGidleH"
      }
    },
    {
      "cell_type": "code",
      "source": [
        "a = 100\n",
        "b = 100\n",
        "\n",
        "if b>a:\n",
        "  print(\"b is greater than a\")\n",
        "elif a>b:\n",
        "  print(\"a is greater than b\")\n",
        "else:\n",
        "  print(\"a is equal to b\")"
      ],
      "metadata": {
        "colab": {
          "base_uri": "https://localhost:8080/"
        },
        "id": "AEbgYykvdnE9",
        "outputId": "34e344c3-dc65-411f-84b9-9767d1a29c43"
      },
      "execution_count": null,
      "outputs": [
        {
          "output_type": "stream",
          "name": "stdout",
          "text": [
            "a is equal to b\n"
          ]
        }
      ]
    },
    {
      "cell_type": "markdown",
      "source": [
        "##Short Hand If Statement"
      ],
      "metadata": {
        "id": "2FW2ZZ38eBm8"
      }
    },
    {
      "cell_type": "code",
      "source": [
        "a = 12\n",
        "b = 100\n",
        "\n",
        "if b > a: print(\"b is greater than a\")\n"
      ],
      "metadata": {
        "colab": {
          "base_uri": "https://localhost:8080/"
        },
        "id": "k1pU4KhJeD1q",
        "outputId": "4f355634-d237-45ce-c17c-ef87f41fcb74"
      },
      "execution_count": null,
      "outputs": [
        {
          "output_type": "stream",
          "name": "stdout",
          "text": [
            "b is greater than a\n"
          ]
        }
      ]
    },
    {
      "cell_type": "markdown",
      "source": [
        "##Short Hand If Else Statement"
      ],
      "metadata": {
        "id": "xwK6Dd9Lebr5"
      }
    },
    {
      "cell_type": "code",
      "source": [
        "c = 35\n",
        "d = 40\n",
        "\n",
        "print(\"c is greater than d\") if c>d else print(\"d is greater than c\")"
      ],
      "metadata": {
        "colab": {
          "base_uri": "https://localhost:8080/"
        },
        "id": "ZA3l9OTheeqj",
        "outputId": "580df242-5adf-4717-9fb0-22c6e915da87"
      },
      "execution_count": null,
      "outputs": [
        {
          "output_type": "stream",
          "name": "stdout",
          "text": [
            "d is greater than c\n"
          ]
        }
      ]
    },
    {
      "cell_type": "markdown",
      "source": [
        "## And logic - if both statements or operands are true"
      ],
      "metadata": {
        "id": "k9anRyrXfQ4P"
      }
    },
    {
      "cell_type": "code",
      "source": [
        "c = 35 \n",
        "d = 40\n",
        "e = 30\n",
        "\n",
        "if d>c and c>e:\n",
        "  print(\"Both conditions are true\")"
      ],
      "metadata": {
        "colab": {
          "base_uri": "https://localhost:8080/"
        },
        "id": "x7_zsYuVfTUD",
        "outputId": "eaae0079-2cb6-407c-84a7-ed58e7f3f54b"
      },
      "execution_count": null,
      "outputs": [
        {
          "output_type": "stream",
          "name": "stdout",
          "text": [
            "Both conditions are true\n"
          ]
        }
      ]
    },
    {
      "cell_type": "markdown",
      "source": [
        "## Or logic - if one of the operands is true"
      ],
      "metadata": {
        "id": "Aj6M5DLYgDdg"
      }
    },
    {
      "cell_type": "code",
      "source": [
        "c = 35 \n",
        "d = 40\n",
        "e = 30\n",
        "\n",
        "if d>c or e>c:\n",
        "  print(\"One of the operands is true\")"
      ],
      "metadata": {
        "colab": {
          "base_uri": "https://localhost:8080/"
        },
        "id": "w0j3cfs0gIGf",
        "outputId": "3dfbe392-1fa9-4e92-ea05-3063c1b3277e"
      },
      "execution_count": null,
      "outputs": [
        {
          "output_type": "stream",
          "name": "stdout",
          "text": [
            "One of the operands is true\n"
          ]
        }
      ]
    },
    {
      "cell_type": "markdown",
      "source": [
        "##Nested If"
      ],
      "metadata": {
        "id": "iJWwT1_Ug-Sx"
      }
    },
    {
      "cell_type": "code",
      "source": [
        "x = int(input(\"Your age:\"))\n",
        "\n",
        "if x>10:\n",
        "  print(\"X is above 10\")\n",
        "  if x>20:\n",
        "    print(\"X is above 20\")\n",
        "    if x>30:\n",
        "      print(\"X is above 30\")\n",
        "      if x>40:\n",
        "        print(\"X is above 40\")\n",
        "      #  if x>50:\n",
        "      #    print(\"X is above 50\")\n",
        "      #  else:\n",
        "      #    print(\"X is not above 50\")\n",
        "      else:\n",
        "        print(\"X is not above 40\")\n",
        "    else:\n",
        "      print(\"X is not above 30\")\n",
        "  else:\n",
        "    print(\"X is not above 20\")"
      ],
      "metadata": {
        "colab": {
          "base_uri": "https://localhost:8080/"
        },
        "id": "EQuSWCwIg_3u",
        "outputId": "0734c8d4-fc86-40b5-d8d7-a286dd4ea450"
      },
      "execution_count": 2,
      "outputs": [
        {
          "output_type": "stream",
          "name": "stdout",
          "text": [
            "Your age:41\n",
            "X is above 10\n",
            "X is above 20\n",
            "X is above 30\n",
            "X is above 40\n"
          ]
        }
      ]
    },
    {
      "cell_type": "markdown",
      "source": [
        "##Application 1:\n",
        "###Write a program that determines if the input age is qualified to vote or not. The qualifiying age is 18 years old and above."
      ],
      "metadata": {
        "id": "986rF7HhijQm"
      }
    },
    {
      "cell_type": "code",
      "source": [
        "age = int(input(\"Input your age: \"))\n",
        "\n",
        "if age >= 18:\n",
        "  print(\"You are qualified to vote!\")\n",
        "else:\n",
        "  print(\"Aww, you are not qualified to vote.\")"
      ],
      "metadata": {
        "colab": {
          "base_uri": "https://localhost:8080/"
        },
        "id": "itF8szbUjOqk",
        "outputId": "c72d4ba6-4de4-4442-995b-c1235c02da8d"
      },
      "execution_count": 3,
      "outputs": [
        {
          "output_type": "stream",
          "name": "stdout",
          "text": [
            "Input your age: 20\n",
            "You are qualified to vote!\n"
          ]
        }
      ]
    },
    {
      "cell_type": "markdown",
      "source": [
        "##Application 2:\n",
        "###Write a program that determines if the input number is POSITIVE, NEGATIVE, or ZERO"
      ],
      "metadata": {
        "id": "2B1lZ6g0jwm6"
      }
    },
    {
      "cell_type": "code",
      "source": [
        "number = int(input(\"Input a number: \"))\n",
        "\n",
        "if number > 0:\n",
        "  print(\"The number is a POSITIVE integer\")\n",
        "elif number < 0:\n",
        "  print(\"The number is a NEGATIVE integer\")\n",
        "else:\n",
        "  print(\"The number is ZERO\")"
      ],
      "metadata": {
        "colab": {
          "base_uri": "https://localhost:8080/"
        },
        "id": "mwMeyxzAj9Iy",
        "outputId": "5390a727-9067-4288-8413-d7639a144a8c"
      },
      "execution_count": 1,
      "outputs": [
        {
          "output_type": "stream",
          "name": "stdout",
          "text": [
            "Input a number: -1\n",
            "The number is a NEGATIVE integer\n"
          ]
        }
      ]
    },
    {
      "cell_type": "markdown",
      "source": [
        "##For Loop Statement"
      ],
      "metadata": {
        "id": "AwZZOrFokOsk"
      }
    },
    {
      "cell_type": "code",
      "source": [
        "week = [\"Sunday\", \"Monday\",\"Tuesday\", \"Wednesday\", \"Thursday\",\"Friday\", \"Saturday\"]\n",
        "\n",
        "for x in week:\n",
        "  print(x)"
      ],
      "metadata": {
        "colab": {
          "base_uri": "https://localhost:8080/"
        },
        "id": "_XznXLDzkROj",
        "outputId": "c85977d4-7c6e-407c-9df2-43c507d0dbe1"
      },
      "execution_count": null,
      "outputs": [
        {
          "output_type": "stream",
          "name": "stdout",
          "text": [
            "Sunday\n",
            "Monday\n",
            "Tuesday\n",
            "Wednesday\n",
            "Thursday\n",
            "Friday\n",
            "Saturday\n"
          ]
        }
      ]
    },
    {
      "cell_type": "markdown",
      "source": [
        "##While Loop"
      ],
      "metadata": {
        "id": "qnKTrspZlseD"
      }
    },
    {
      "cell_type": "code",
      "source": [
        "y = 3\n",
        "\n",
        "while y<6:\n",
        "  print(y)\n",
        "  if y ==3:\n",
        "    break\n",
        "  y+=1 #i = i+1"
      ],
      "metadata": {
        "colab": {
          "base_uri": "https://localhost:8080/"
        },
        "id": "owZRux_glsDG",
        "outputId": "7c39c7af-ca19-4bef-c253-41294a25feb0"
      },
      "execution_count": null,
      "outputs": [
        {
          "output_type": "stream",
          "name": "stdout",
          "text": [
            "3\n"
          ]
        }
      ]
    }
  ]
}