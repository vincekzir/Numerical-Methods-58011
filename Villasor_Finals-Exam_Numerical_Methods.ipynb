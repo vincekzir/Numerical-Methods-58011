{
  "nbformat": 4,
  "nbformat_minor": 0,
  "metadata": {
    "colab": {
      "name": "Villasor_Finals Exam - Numerical Methods.ipynb",
      "provenance": [],
      "collapsed_sections": [],
      "authorship_tag": "ABX9TyObuMGaKkU4RQhuA4gcaBKc",
      "include_colab_link": true
    },
    "kernelspec": {
      "name": "python3",
      "display_name": "Python 3"
    },
    "language_info": {
      "name": "python"
    }
  },
  "cells": [
    {
      "cell_type": "markdown",
      "metadata": {
        "id": "view-in-github",
        "colab_type": "text"
      },
      "source": [
        "<a href=\"https://colab.research.google.com/github/vincev16/Numerical-Methods-58011/blob/main/Villasor_Finals-Exam_Numerical_Methods.ipynb\" target=\"_parent\"><img src=\"https://colab.research.google.com/assets/colab-badge.svg\" alt=\"Open In Colab\"/></a>"
      ]
    },
    {
      "cell_type": "markdown",
      "source": [
        "####VINCE KAZER M. VILLASOR \n",
        "58011"
      ],
      "metadata": {
        "id": "LqPeqfDy2SFM"
      }
    },
    {
      "cell_type": "markdown",
      "source": [
        "Problem 3. Create a Python program that integrates the function f(x) = ex  from x1=-1 to x2 = 1 as the interval. Save your program to your repository and send your GitHub link here. (30 points)"
      ],
      "metadata": {
        "id": "a7Ufu6ALyC9i"
      }
    },
    {
      "cell_type": "code",
      "source": [
        "from math import e\n",
        "def f(x): return e**x  #define the function\n",
        "\n",
        "a = -1\n",
        "b = 1\n",
        "n = 10      \n",
        "h = (b-a)/n   #width of the trapezoid\n",
        "S = h* (f(a)+f(b))    #beginning value of summation\n",
        "for i in range(1,n):\n",
        "    S+=f(a+i*h)\n",
        "Integral = h*S\n",
        "print('Integral = %.4f' %Integral)\n",
        "\n"
      ],
      "metadata": {
        "colab": {
          "base_uri": "https://localhost:8080/"
        },
        "id": "K0zC-nRHyKWe",
        "outputId": "2429275a-2212-40c4-b3e1-78de33c6b623"
      },
      "execution_count": 7,
      "outputs": [
        {
          "output_type": "stream",
          "name": "stdout",
          "text": [
            "Integral = 2.1731\n"
          ]
        }
      ]
    },
    {
      "cell_type": "markdown",
      "source": [
        "##another answer with different value of n"
      ],
      "metadata": {
        "id": "qekbzMfh3B7I"
      }
    },
    {
      "cell_type": "code",
      "source": [
        "from math import e\n",
        "def f(x): return e**x  #define the function\n",
        "\n",
        "a = -1\n",
        "b = 1\n",
        "n = 1      #according to the discussion, the value of n should be equal or between the interval\n",
        "h = (b-a)/n   #width of the trapezoid\n",
        "S = h* (f(a)+f(b))    #beginning value of summation\n",
        "for i in range(1,n):\n",
        "    S+=f(a+i*h)\n",
        "Integral = h*S\n",
        "print('Integral = %.4f' %Integral)\n",
        "\n"
      ],
      "metadata": {
        "colab": {
          "base_uri": "https://localhost:8080/"
        },
        "id": "NDfmsexn2-n0",
        "outputId": "22513e8c-21fd-46d4-ae42-8c64799093b7"
      },
      "execution_count": 9,
      "outputs": [
        {
          "output_type": "stream",
          "name": "stdout",
          "text": [
            "Integral = 12.3446\n"
          ]
        }
      ]
    }
  ]
}